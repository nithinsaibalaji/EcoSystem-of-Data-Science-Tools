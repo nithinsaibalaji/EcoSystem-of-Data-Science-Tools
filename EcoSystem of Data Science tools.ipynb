{
 "cells": [
  {
   "cell_type": "markdown",
   "id": "71b34027",
   "metadata": {},
   "source": [
    "# EcoSystem of the Data Science"
   ]
  },
  {
   "cell_type": "markdown",
   "id": "bdba0808",
   "metadata": {},
   "source": [
    "# INTRODUCTION"
   ]
  },
  {
   "cell_type": "markdown",
   "id": "4622553d",
   "metadata": {},
   "source": [
    "# In this we'll learn about Data Science Tools and its ecosystem"
   ]
  },
  {
   "cell_type": "markdown",
   "id": "331fd250",
   "metadata": {},
   "source": [
    "Languages of DATA SCIENCE:\n",
    "   1. Java\n",
    "   2. Python\n",
    "   3. R\n",
    "   4. SQL"
   ]
  },
  {
   "cell_type": "markdown",
   "id": "a3fac041",
   "metadata": {},
   "source": [
    "Some of the commonly used libraries used by Data Scientists\n",
    "1. Tensorflow\n",
    "2. NumPy,\n",
    "3. SdPy.\n",
    "4. pmdas.\n",
    "5. XOtVotlb.\n",
    "6. Ketas.\n",
    "7. SdKi-Learn."
   ]
  },
  {
   "cell_type": "markdown",
   "id": "faa4e05f",
   "metadata": {},
   "source": [
    "|DS Tools|\n",
    "|---|\n",
    "|Tensor|\n",
    "|Apache|"
   ]
  },
  {
   "cell_type": "markdown",
   "id": "47318b23",
   "metadata": {},
   "source": [
    "### Arithmetic Expressions in DS"
   ]
  },
  {
   "cell_type": "code",
   "execution_count": 3,
   "id": "5c7fd648",
   "metadata": {},
   "outputs": [
    {
     "data": {
      "text/plain": [
       "16"
      ]
     },
     "execution_count": 3,
     "metadata": {},
     "output_type": "execute_result"
    }
   ],
   "source": [
    "(5+3)*2"
   ]
  },
  {
   "cell_type": "code",
   "execution_count": 4,
   "id": "49b9b9e4",
   "metadata": {},
   "outputs": [
    {
     "data": {
      "text/plain": [
       "125"
      ]
     },
     "execution_count": 4,
     "metadata": {},
     "output_type": "execute_result"
    }
   ],
   "source": [
    "5**3"
   ]
  },
  {
   "cell_type": "code",
   "execution_count": 5,
   "id": "1f7cd0a9",
   "metadata": {},
   "outputs": [
    {
     "data": {
      "text/plain": [
       "6.0"
      ]
     },
     "execution_count": 5,
     "metadata": {},
     "output_type": "execute_result"
    }
   ],
   "source": [
    "#Minutes to hours\n",
    "360/60"
   ]
  },
  {
   "cell_type": "markdown",
   "id": "57e6d56d",
   "metadata": {},
   "source": [
    "#_Objectives\n",
    "* DS\n",
    "* DS Tools\n",
    "* Ecosystem"
   ]
  },
  {
   "cell_type": "markdown",
   "id": "08d540b7",
   "metadata": {},
   "source": [
    "# Done By\n",
    "O NITHIN SAI BALAJI"
   ]
  },
  {
   "cell_type": "code",
   "execution_count": null,
   "id": "153d774b",
   "metadata": {},
   "outputs": [],
   "source": []
  }
 ],
 "metadata": {
  "kernelspec": {
   "display_name": "Python 3 (ipykernel)",
   "language": "python",
   "name": "python3"
  },
  "language_info": {
   "codemirror_mode": {
    "name": "ipython",
    "version": 3
   },
   "file_extension": ".py",
   "mimetype": "text/x-python",
   "name": "python",
   "nbconvert_exporter": "python",
   "pygments_lexer": "ipython3",
   "version": "3.9.12"
  }
 },
 "nbformat": 4,
 "nbformat_minor": 5
}
